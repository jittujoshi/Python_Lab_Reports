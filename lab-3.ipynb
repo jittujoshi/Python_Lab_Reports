{
 "cells": [
  {
   "cell_type": "markdown",
   "id": "60f7c3eb-8401-4c94-a02e-a4f57c9edb72",
   "metadata": {},
   "source": [
    "## Function in Python programming\n",
    "\n",
    "1. Write a Python function named `greet_user` that takes a user's name and prints:  \n",
    "`Hello, <name>! Welcome to Python.` Call the function with a simple name.\n"
   ]
  },
  {
   "cell_type": "code",
   "execution_count": 2,
   "id": "206fa6d6-671b-47b0-b762-a14806d48b83",
   "metadata": {},
   "outputs": [
    {
     "name": "stdin",
     "output_type": "stream",
     "text": [
      "Enter your name:  Ishant\n"
     ]
    },
    {
     "name": "stdout",
     "output_type": "stream",
     "text": [
      "Hello, Ishant! Welcome!\n"
     ]
    }
   ],
   "source": [
    "def greet_user(name):\n",
    "    return f\"Hello, {name}! Welcome!\"\n",
    "\n",
    "name = input(\"Enter your name: \")\n",
    "feed = greet_user(name)\n",
    "print(feed)"
   ]
  },
  {
   "cell_type": "markdown",
   "id": "c881ddc4-ded6-4f20-818b-c0b30f383cb3",
   "metadata": {},
   "source": [
    "2. Create a function power(base, exponent=2) that returns the result of base raised to the power of exponent.Demonstrate it with and without the exponent argument."
   ]
  },
  {
   "cell_type": "code",
   "execution_count": 3,
   "id": "a5c05e68-8214-4796-8543-bc21bd2b2625",
   "metadata": {},
   "outputs": [
    {
     "name": "stdout",
     "output_type": "stream",
     "text": [
      "5 squared (default exponent) is: 25\n",
      "5 raised to the power of 3 is: 125\n"
     ]
    }
   ],
   "source": [
    "def power(base, exponent=2):\n",
    "    return base ** exponent\n",
    "\n",
    "\n",
    "result_default = power(5)\n",
    "print(f\"5 squared (default exponent) is: {result_default}\")\n",
    "\n",
    "result_explicit = power(5, 3)\n",
    "print(f\"5 raised to the power of 3 is: {result_explicit}\")\n"
   ]
  },
  {
   "cell_type": "markdown",
   "id": "8b6d7a1c-a256-4fe9-b494-6af2e6441083",
   "metadata": {},
   "source": [
    "3. Write a function book_info(title, author, year) that prints book details.Call the function using keyword arguments in different orders."
   ]
  },
  {
   "cell_type": "code",
   "execution_count": 4,
   "id": "60135b50-8e78-40a3-9279-e3f75fda0442",
   "metadata": {},
   "outputs": [
    {
     "name": "stdout",
     "output_type": "stream",
     "text": [
      "Book Title: MUNA MADAN\n",
      "Author: Laxmi Prasad Devkota\n",
      "Publication Year: 1936\n",
      "\n",
      "Book Title: Seto Dharti\n",
      "Author: Amar Neupane\n",
      "Publication Year: 2012\n"
     ]
    }
   ],
   "source": [
    "def book_info(title, author, year):\n",
    "    print(f\"Book Title: {title}\")\n",
    "    print(f\"Author: {author}\")\n",
    "    print(f\"Publication Year: {year}\")\n",
    "\n",
    "book_info(title=\"MUNA MADAN\", author=\"Laxmi Prasad Devkota\", year=1936)\n",
    "\n",
    "print()  \n",
    "\n",
    "book_info(year=2012, author=\"Amar Neupane\", title=\"Seto Dharti\")\n"
   ]
  },
  {
   "cell_type": "markdown",
   "id": "7a4a4c64-84ef-42c3-9c94-79d2d12b5dd5",
   "metadata": {},
   "source": [
    "4. Create a function sum_numbers(*args) that accepts any number of numeric arguments and returns their sum.Test it with 2, 3, and 5 numbers."
   ]
  },
  {
   "cell_type": "code",
   "execution_count": 5,
   "id": "42d4dbd7-9020-46c5-b7ea-e892335aacc4",
   "metadata": {},
   "outputs": [
    {
     "name": "stdout",
     "output_type": "stream",
     "text": [
      "Sum of 2 numbers (10, 20): 30\n",
      "Sum of 3 numbers (1, 2, 3): 6\n",
      "Sum of 5 numbers (4, 5, 6, 7, 8): 30\n"
     ]
    }
   ],
   "source": [
    "def sum_numbers(*args):\n",
    "    return sum(args)\n",
    "\n",
    "\n",
    "result_2 = sum_numbers(10, 20)\n",
    "print(f\"Sum of 2 numbers (10, 20): {result_2}\")\n",
    "\n",
    "result_3 = sum_numbers(1, 2, 3)\n",
    "print(f\"Sum of 3 numbers (1, 2, 3): {result_3}\")\n",
    "\n",
    "result_5 = sum_numbers(4, 5, 6, 7, 8)\n",
    "print(f\"Sum of 5 numbers (4, 5, 6, 7, 8): {result_5}\")\n"
   ]
  },
  {
   "cell_type": "markdown",
   "id": "9a7ccee0-bd7d-4f68-ab43-ca8a7cea2ef7",
   "metadata": {},
   "source": [
    "5. Write a function student_profile(**kwargs) that prints the key-value pairs passed (e.g., name, age,grade). Call it with at least three named arguments."
   ]
  },
  {
   "cell_type": "code",
   "execution_count": 6,
   "id": "32ecc691-633e-40ce-8c70-c2725fb70b38",
   "metadata": {},
   "outputs": [
    {
     "name": "stdout",
     "output_type": "stream",
     "text": [
      "name: Ishant Yadav\n",
      "age: 18\n",
      "grade: A\n"
     ]
    }
   ],
   "source": [
    "def student_profile(**kwargs):\n",
    "    for key, value in kwargs.items():\n",
    "        print(f\"{key}: {value}\")\n",
    "\n",
    "student_profile(name=\"Ishant Yadav\", age=18, grade=\"A\")\n"
   ]
  },
  {
   "cell_type": "markdown",
   "id": "d369d4ec-bee1-4266-8547-70ccdb7149cf",
   "metadata": {},
   "source": [
    "6. Write a lambda function to compute the square of a number.Use it to compute the square of 5 and 12."
   ]
  },
  {
   "cell_type": "code",
   "execution_count": 8,
   "id": "34d9566d-2d58-44f5-a167-34393d96d1b6",
   "metadata": {},
   "outputs": [
    {
     "name": "stdout",
     "output_type": "stream",
     "text": [
      "25\n",
      "144\n"
     ]
    }
   ],
   "source": [
    "\n",
    "square = lambda x: x ** 2\n",
    "print(square(5))  \n",
    "print(square(12))  \n"
   ]
  },
  {
   "cell_type": "markdown",
   "id": "ca0664d6-41e3-4516-8f9c-c1e3dcd8ddaa",
   "metadata": {},
   "source": [
    "7. Given a list of numbers [1, 2, 3, 4, 5], use map() and a lambda function to return a new list with each number doubled."
   ]
  },
  {
   "cell_type": "code",
   "execution_count": 9,
   "id": "525e118b-21f4-4bf0-86ff-cc02c5803428",
   "metadata": {},
   "outputs": [
    {
     "name": "stdout",
     "output_type": "stream",
     "text": [
      "[2, 4, 6, 8, 10]\n"
     ]
    }
   ],
   "source": [
    "numbers = [1, 2, 3, 4, 5]\n",
    "doubled = map(lambda x: x*2, numbers)\n",
    "print(list(doubled))"
   ]
  },
  {
   "cell_type": "markdown",
   "id": "26705c95-957e-409e-bd4d-6b219b48d76e",
   "metadata": {},
   "source": [
    "8. Given a list [10, 15, 20, 25, 30], use filter() and a lambda function to extract numbers divisible by 10."
   ]
  },
  {
   "cell_type": "code",
   "execution_count": 10,
   "id": "c35136ef-1db5-4a5d-a201-270117596e05",
   "metadata": {},
   "outputs": [
    {
     "name": "stdout",
     "output_type": "stream",
     "text": [
      "[10, 20, 30]\n"
     ]
    }
   ],
   "source": [
    "numbers = [10, 15, 20, 25, 30]\n",
    "divisible_by_ten = filter(lambda x: x % 10 == 0, numbers)\n",
    "print(list(divisible_by_ten))"
   ]
  },
  {
   "cell_type": "markdown",
   "id": "b3e2b41c-c207-420e-ae2f-002ad8395f22",
   "metadata": {},
   "source": [
    "9. Given a list of temperatures in Celsius [36.5, 37.0, 39.2, 35.6, 38.7],convert them to Fahrenheit using map(),Filter out those above 100°F using filter()."
   ]
  },
  {
   "cell_type": "code",
   "execution_count": 11,
   "id": "019b3688-9466-408a-b3d4-cec02dc6a490",
   "metadata": {},
   "outputs": [
    {
     "name": "stdout",
     "output_type": "stream",
     "text": [
      "[97.7, 98.60000000000001, 102.56, 96.08, 101.66000000000001]\n",
      "[102.56, 101.66000000000001]\n"
     ]
    }
   ],
   "source": [
    "in_celcius = [36.5, 37.0, 39.2, 35.6, 38.7]\n",
    "in_farhenheit = map(lambda temp: (9 / 5) * temp + 32, in_celcius)\n",
    "fahrenheit_list = list(in_farhenheit)\n",
    "print(fahrenheit_list)\n",
    "above_hundred = filter(lambda x: x > 100, fahrenheit_list)\n",
    "print(list(above_hundred))"
   ]
  },
  {
   "cell_type": "markdown",
   "id": "22ac5148-3f1f-4219-9980-91205a4d7985",
   "metadata": {},
   "source": [
    "# Mini Project:\n",
    "\n",
    "## Simple To-Do Manager Using Function Programming\n",
    "\n",
    "---\n",
    "\n",
    "### **Objective:**  \n",
    "Manage a list of to-do tasks using functions, lambda, filter, and map.  \n",
    "**Requirement:**\n",
    "\n",
    "- **Allow adding tasks** using a function `add_task(task_list, task_name)`.\n",
    "- Each task is a dictionary: `{\"name\": str, \"completed\": bool}`.\n",
    "- Use `lambda` and `filter()` to list only incomplete tasks.\n",
    "- Use `map()` to mark all tasks as completed.\n",
    "- Include a `search_tasks(task_list, keyword)` function using `filter()` and `lambda`.\n",
    "\n",
    "> **Sample Workflow:**  \n",
    "> `tasks = []`  \n",
    "> `tasks = add_task(tasks, \"Buy groceries\")`  \n",
    "> `tasks = add_task(tasks, \"Finish assignment\")`  \n",
    "> `tasks = add_task(tasks, \"Call friend\")`  \n",
    "> **# List incomplete tasks**  \n",
    "> `print(\"Pending Tasks\", list_pending(tasks))`  \n",
    "> **# Mark all tasks as complete**  \n",
    "> `tasks = complete_sll(tasks)`  \n",
    "\n",
    "- **Search tasks with keyword \"call\":**  \n",
    "  `print(\"Search Result\", search_tasks(tasks, \"call\"))`\n"
   ]
  },
  {
   "cell_type": "code",
   "execution_count": 12,
   "id": "94f94baa-4335-41b1-ba51-0555fffb6ff0",
   "metadata": {},
   "outputs": [
    {
     "name": "stdout",
     "output_type": "stream",
     "text": [
      "Pending Tasks: [{'name': 'Buy groceries', 'completed': False}, {'name': 'Finish assignment', 'completed': False}, {'name': 'Call friend', 'completed': False}]\n",
      "Tasks after marking completed: [{'name': 'Buy groceries', 'completed': True}, {'name': 'Finish assignment', 'completed': True}, {'name': 'Call friend', 'completed': True}]\n",
      "Search Result: [{'name': 'Call friend', 'completed': True}]\n"
     ]
    }
   ],
   "source": [
    "# Function to add a task to the task list\n",
    "def add_task(task_list, task_name):\n",
    "    # Create a new task dictionary and return a new list with the task appended\n",
    "    new_task = {\"name\": task_name, \"completed\": False}\n",
    "    return task_list + [new_task]\n",
    "\n",
    "# Function to list only incomplete (pending) tasks using filter and lambda\n",
    "def list_pending(task_list):\n",
    "    # Filter tasks where 'completed' is False\n",
    "    pending_tasks = filter(lambda task: not task[\"completed\"], task_list)\n",
    "    return list(pending_tasks)\n",
    "\n",
    "# Function to mark all tasks as completed using map and lambda\n",
    "def complete_all(task_list):\n",
    "    # Map every task to a new task dict with 'completed' set to True\n",
    "    completed_tasks = map(lambda task: {**task, \"completed\": True}, task_list)\n",
    "    return list(completed_tasks)\n",
    "\n",
    "# Function to search tasks by keyword in the task name (case-insensitive)\n",
    "def search_tasks(task_list, keyword):\n",
    "    keyword_lower = keyword.lower()\n",
    "    filtered_tasks = filter(lambda task: keyword_lower in task[\"name\"].lower(), task_list)\n",
    "    return list(filtered_tasks)\n",
    "\n",
    "\n",
    "# ----- Sample workflow demonstration -----\n",
    "if __name__ == \"__main__\":\n",
    "    tasks = []\n",
    "\n",
    "    # Add tasks\n",
    "    tasks = add_task(tasks, \"Buy groceries\")\n",
    "    tasks = add_task(tasks, \"Finish assignment\")\n",
    "    tasks = add_task(tasks, \"Call friend\")\n",
    "\n",
    "    # List incomplete (pending) tasks\n",
    "    print(\"Pending Tasks:\", list_pending(tasks))\n",
    "\n",
    "    # Mark all tasks as complete\n",
    "    tasks = complete_all(tasks)\n",
    "    print(\"Tasks after marking completed:\", tasks)\n",
    "\n",
    "    # Search tasks with keyword \"call\"\n",
    "    print(\"Search Result:\", search_tasks(tasks, \"call\"))\n"
   ]
  },
  {
   "cell_type": "code",
   "execution_count": null,
   "id": "549a1a20-382a-4d99-bbe9-a920c7bbbdc0",
   "metadata": {},
   "outputs": [],
   "source": []
  }
 ],
 "metadata": {
  "kernelspec": {
   "display_name": "Python 3 (ipykernel)",
   "language": "python",
   "name": "python3"
  },
  "language_info": {
   "codemirror_mode": {
    "name": "ipython",
    "version": 3
   },
   "file_extension": ".py",
   "mimetype": "text/x-python",
   "name": "python",
   "nbconvert_exporter": "python",
   "pygments_lexer": "ipython3",
   "version": "3.13.5"
  }
 },
 "nbformat": 4,
 "nbformat_minor": 5
}
