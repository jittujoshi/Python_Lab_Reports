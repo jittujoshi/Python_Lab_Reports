{
 "cells": [
  {
   "cell_type": "markdown",
   "id": "6f04e88c",
   "metadata": {},
   "source": [
    "Data Structures\n",
    "\n",
    "1. write a python program to remove all duplicates from a list and print the unique elements\n"
   ]
  },
  {
   "cell_type": "code",
   "execution_count": 47,
   "id": "ad3f2fe3",
   "metadata": {},
   "outputs": [
    {
     "name": "stdout",
     "output_type": "stream",
     "text": [
      "the unique elements of the list are : {1, 2, 4, 5}\n"
     ]
    }
   ],
   "source": [
    "list = [1,2,4,5,4,5,2,1]\n",
    "unique_list =(set(list))\n",
    "print(\"the unique elements of the list are :\",  unique_list)"
   ]
  },
  {
   "cell_type": "markdown",
   "id": "d9e46fba",
   "metadata": {},
   "source": [
    "2. Create a tuple of 10 integers. Wap to display the maximum and minimum numbers from the tuple\n"
   ]
  },
  {
   "cell_type": "code",
   "execution_count": 48,
   "id": "099e75f0",
   "metadata": {},
   "outputs": [
    {
     "name": "stdout",
     "output_type": "stream",
     "text": [
      "the maximum and minimum numbers are :  9 and 1\n"
     ]
    }
   ],
   "source": [
    "tuple = (1, 2, 5, 6, 7, 9)\n",
    "max_num = max(tuple)\n",
    "min_num = min(tuple)\n",
    "print(\"the maximum and minimum numbers are : \", max_num, \"and\", min_num)"
   ]
  },
  {
   "cell_type": "markdown",
   "id": "943432c0",
   "metadata": {},
   "source": [
    "3. wap that accepts a list and returns new list with only the even numbers from the original list"
   ]
  },
  {
   "cell_type": "code",
   "execution_count": 49,
   "id": "9077c579",
   "metadata": {},
   "outputs": [
    {
     "name": "stdout",
     "output_type": "stream",
     "text": [
      "Even numbers from the list are: [2, 4, 4, 2]\n"
     ]
    }
   ],
   "source": [
    "def get_even_numbers(lst):\n",
    "    return [num for num in lst if num % 2 == 0]\n",
    "\n",
    "even_numbers = get_even_numbers(list)\n",
    "print(\"Even numbers from the list are:\", even_numbers)"
   ]
  },
  {
   "cell_type": "markdown",
   "id": "e5f9afb5",
   "metadata": {},
   "source": [
    "4. wap to count the number of each character in a given string using a dictionary\n"
   ]
  },
  {
   "cell_type": "code",
   "execution_count": 50,
   "id": "39a1ace4",
   "metadata": {},
   "outputs": [
    {
     "name": "stdout",
     "output_type": "stream",
     "text": [
      "Character count: {'e': 2, 'x': 1, 'a': 1, 'm': 1, 'p': 1, 'l': 1, ' ': 1, 's': 1, 't': 1, 'r': 1, 'i': 1, 'n': 1, 'g': 1}\n"
     ]
    }
   ],
   "source": [
    "def count_characters(s):\n",
    "    char_count = {}\n",
    "    for char in s:\n",
    "        if char in char_count:\n",
    "            char_count[char] += 1\n",
    "        else:\n",
    "            char_count[char] = 1\n",
    "    return char_count\n",
    "\n",
    "input_string = \"example string\"\n",
    "result = count_characters(input_string)\n",
    "print(\"Character count:\", result)"
   ]
  },
  {
   "cell_type": "markdown",
   "id": "d1c89183",
   "metadata": {},
   "source": [
    "5. create a set  of prime numbers less than 50. wap to vheck wheter a  given number exists in the set or not"
   ]
  },
  {
   "cell_type": "code",
   "execution_count": 51,
   "id": "6e8b6636",
   "metadata": {},
   "outputs": [
    {
     "name": "stdout",
     "output_type": "stream",
     "text": [
      "17 exists in the set of primes less than 50.\n",
      "20 does not exist in the set of primes less than 50.\n"
     ]
    }
   ],
   "source": [
    "\n",
    "prime_set = {2, 3, 5, 7, 11, 13, 17, 19, 23, 29, 31, 37, 41, 43, 47}\n",
    "\n",
    "def check_prime_in_set(num):\n",
    "    if num in prime_set:\n",
    "        print(f\"{num} exists in the set of primes less than 50.\")\n",
    "    else:\n",
    "        print(f\"{num} does not exist in the set of primes less than 50.\")\n",
    "\n",
    "check_prime_in_set(17)\n",
    "check_prime_in_set(20)"
   ]
  },
  {
   "cell_type": "markdown",
   "id": "1c19fad2",
   "metadata": {},
   "source": [
    "6. given two lists, find the intersection of two using sets"
   ]
  },
  {
   "cell_type": "code",
   "execution_count": 52,
   "id": "5fbf2210",
   "metadata": {},
   "outputs": [
    {
     "name": "stdout",
     "output_type": "stream",
     "text": [
      "The intersection of the two lists is: {4, 5}\n"
     ]
    }
   ],
   "source": [
    "set1 = {1, 2, 3, 4, 5}\n",
    "set2 = {4, 5, 6, 7, 8}\n",
    "intersection = set(list1) & set(list2)\n",
    "print(\"The intersection of the two lists is:\", intersection)"
   ]
  },
  {
   "cell_type": "markdown",
   "id": "a4c0c6c9",
   "metadata": {},
   "source": [
    "7. WAP yo merge two dictionaries and sum the values of common keys\n"
   ]
  },
  {
   "cell_type": "code",
   "execution_count": 53,
   "id": "388db8c2",
   "metadata": {},
   "outputs": [
    {
     "name": "stdout",
     "output_type": "stream",
     "text": [
      "Merged dictionary with summed values: {'a': 10, 'b': 25, 'c': 45, 'd': 25}\n"
     ]
    }
   ],
   "source": [
    "def merge_and_sum_dicts(dict1, dict2):\n",
    "    merged = dict1.copy()\n",
    "    for key, value in dict2.items():\n",
    "        if key in merged:\n",
    "            merged[key] += value\n",
    "        else:\n",
    "            merged[key] = value\n",
    "    return merged\n",
    "\n",
    "dict1 = {'a': 10, 'b': 20, 'c': 30}\n",
    "dict2 = {'b': 5, 'c': 15, 'd': 25}\n",
    "merged_dict = merge_and_sum_dicts(dict1, dict2)\n",
    "print(\"Merged dictionary with summed values:\", merged_dict)"
   ]
  },
  {
   "cell_type": "markdown",
   "id": "b271bdd0",
   "metadata": {},
   "source": [
    "8. Given a list of names, write a program to count how many times each name appears using a dictionary\n"
   ]
  },
  {
   "cell_type": "code",
   "execution_count": 54,
   "id": "4f42747e",
   "metadata": {},
   "outputs": [
    {
     "name": "stdout",
     "output_type": "stream",
     "text": [
      "Name counts: {'Alice': 3, 'Bob': 2, 'Charlie': 1}\n"
     ]
    }
   ],
   "source": [
    "name_list = [\"Alice\", \"Bob\", \"Alice\", \"Charlie\", \"Bob\", \"Alice\"]\n",
    "\n",
    "name_count = {}\n",
    "for name in name_list:\n",
    "    if name in name_count:\n",
    "        name_count[name] += 1\n",
    "    else:\n",
    "        name_count[name] = 1\n",
    "\n",
    "print(\"Name counts:\", name_count)"
   ]
  },
  {
   "cell_type": "markdown",
   "id": "87ca7463",
   "metadata": {},
   "source": [
    "9. WAP to remove elements from a list which are also present in another list"
   ]
  },
  {
   "cell_type": "code",
   "execution_count": 55,
   "id": "8f0d9cf7",
   "metadata": {},
   "outputs": [
    {
     "name": "stdout",
     "output_type": "stream",
     "text": [
      "List after removing common elements: [1, 2, 3]\n"
     ]
    }
   ],
   "source": [
    "def remove_common_elements(list1, list2):\n",
    "    return [item for item in list1 if item not in list2]\n",
    "\n",
    "result_list = remove_common_elements(list1, list2)\n",
    "print(\"List after removing common elements:\", result_list)"
   ]
  },
  {
   "cell_type": "markdown",
   "id": "f9a59f3d",
   "metadata": {},
   "source": [
    "10. WAP to input key-value pairs from the user and store them in a dictionary. Allow a user to search for a key and display its value"
   ]
  },
  {
   "cell_type": "code",
   "execution_count": 56,
   "id": "de0ba26a",
   "metadata": {},
   "outputs": [
    {
     "name": "stdout",
     "output_type": "stream",
     "text": [
      "Dictionary: {'1': '3', '2': '5', '3': '6', '4': '7', '5': '7'}\n"
     ]
    }
   ],
   "source": [
    "user_dict = {}\n",
    "\n",
    "n = int(input(\"Enter the number of key-value pairs you want to add: \"))\n",
    "for _ in range(n):\n",
    "    key = input(\"Enter key: \")\n",
    "    value = input(\"Enter value: \")\n",
    "    user_dict[key] = value\n",
    "\n",
    "print(\"Dictionary:\", user_dict)"
   ]
  },
  {
   "cell_type": "markdown",
   "id": "48a1823d",
   "metadata": {},
   "source": [
    "#Conditions and Loop"
   ]
  },
  {
   "cell_type": "markdown",
   "id": "2e429e0e",
   "metadata": {},
   "source": [
    "1. WAP to check whether the given number is prime or not\n"
   ]
  },
  {
   "cell_type": "code",
   "execution_count": 57,
   "id": "af0c3afc",
   "metadata": {},
   "outputs": [
    {
     "name": "stdout",
     "output_type": "stream",
     "text": [
      "5 is a prime number\n"
     ]
    }
   ],
   "source": [
    "n = int(input(\"Enter a number to check if it's prime: \"))\n",
    "if n > 1:\n",
    "    for i in range(2, int(n**0.5) + 1):\n",
    "        if (n % i) == 0:\n",
    "            print(n, \"is not a prime number\")\n",
    "            break\n",
    "    else:\n",
    "        print(n, \"is a prime number\")"
   ]
  },
  {
   "cell_type": "markdown",
   "id": "44794c2c",
   "metadata": {},
   "source": [
    "2. WAP to print all the even numbers between 1 and 100 using a loop\n"
   ]
  },
  {
   "cell_type": "code",
   "execution_count": 58,
   "id": "e46a1575",
   "metadata": {},
   "outputs": [
    {
     "name": "stdout",
     "output_type": "stream",
     "text": [
      "2 4 6 8 10 12 14 16 18 20 22 24 26 28 30 32 34 36 38 40 42 44 46 48 50 52 54 56 58 60 62 64 66 68 70 72 74 76 78 80 82 84 86 88 90 92 94 96 98 100 "
     ]
    }
   ],
   "source": [
    "n= 100\n",
    "for i in range(1, n+1):\n",
    "    if i%2 != 0:\n",
    "        continue\n",
    "    print(i,end=\" \")\n",
    "    \n"
   ]
  },
  {
   "cell_type": "markdown",
   "id": "1c9410a6",
   "metadata": {},
   "source": [
    "3. WAP that reads a number and prints the factorial of that number using a loop\n"
   ]
  },
  {
   "cell_type": "code",
   "execution_count": 59,
   "id": "b12a6530",
   "metadata": {},
   "outputs": [
    {
     "name": "stdout",
     "output_type": "stream",
     "text": [
      "the factorial of  6 is 720\n"
     ]
    }
   ],
   "source": [
    "n = int(input(\"enter a positive number:\"))\n",
    "fact = 1\n",
    "for i in range (1, n +1):\n",
    "    fact = fact * i\n",
    "\n",
    "print(\"the factorial of \", n, \"is\", fact)"
   ]
  },
  {
   "cell_type": "markdown",
   "id": "e7d1112a",
   "metadata": {},
   "source": [
    "WAP to print the numtiplication table of a given number using loop"
   ]
  },
  {
   "cell_type": "code",
   "execution_count": 60,
   "id": "798c329d",
   "metadata": {},
   "outputs": [
    {
     "name": "stdout",
     "output_type": "stream",
     "text": [
      "4\n",
      "8\n",
      "12\n",
      "16\n",
      "20\n",
      "24\n",
      "28\n",
      "32\n",
      "36\n",
      "40\n"
     ]
    }
   ],
   "source": [
    "n = int(input(\"enter a number: \"))\n",
    "for i in range(1,11):\n",
    "    table = n * i\n",
    "    print(n*i)\n",
    "\n",
    "        "
   ]
  },
  {
   "cell_type": "markdown",
   "id": "7d0862c3",
   "metadata": {},
   "source": [
    "5. WAP to find the  largest and the smallest number in a list entered by the user"
   ]
  },
  {
   "cell_type": "code",
   "execution_count": 61,
   "id": "33df9816",
   "metadata": {},
   "outputs": [
    {
     "name": "stdout",
     "output_type": "stream",
     "text": [
      "The largest number is: 4\n",
      "The smallest number is: 3\n"
     ]
    }
   ],
   "source": [
    "input_list = []\n",
    "n = int(input(\"Enter the number of elements in the list: \"))\n",
    "for i in range(n):\n",
    "    elements = int(input(\"Enter element: \"))\n",
    "    input_list.append(elements)\n",
    "    if i == 0:\n",
    "        largest = smallest = elements\n",
    "    else:\n",
    "        if elements > largest:\n",
    "            largest = elements\n",
    "        if elements < smallest:\n",
    "            smallest = elements\n",
    "\n",
    "print(\"The largest number is:\", largest)\n",
    "print(\"The smallest number is:\", smallest)"
   ]
  },
  {
   "cell_type": "markdown",
   "id": "a365f3f6",
   "metadata": {},
   "source": [
    "6. WAP that accepts 10 integers from the user and counts how many are positive negative or zero\n"
   ]
  },
  {
   "cell_type": "code",
   "execution_count": 62,
   "id": "9c3a262e",
   "metadata": {},
   "outputs": [
    {
     "name": "stdout",
     "output_type": "stream",
     "text": [
      "{'positive': 10, 'negative': 0, 'zero': 0}\n"
     ]
    }
   ],
   "source": [
    "counter = {'positive': 0, 'negative': 0, 'zero': 0}\n",
    "for i in range(10):\n",
    "    num = int(input(\"enter a number: \"))\n",
    "    if num >0:\n",
    "        counter['positive'] += 1\n",
    "    elif num <0:\n",
    "        counter['negative'] += 1\n",
    "    else:\n",
    "        counter['zero'] += 1\n",
    "print(counter)\n"
   ]
  },
  {
   "cell_type": "markdown",
   "id": "a4d03d80",
   "metadata": {},
   "source": [
    "7. WAP to generate the fibonacci seuquence upto n terms"
   ]
  },
  {
   "cell_type": "code",
   "execution_count": 63,
   "id": "2643f00e",
   "metadata": {},
   "outputs": [
    {
     "name": "stdout",
     "output_type": "stream",
     "text": [
      "0 1 1 2 4\n"
     ]
    }
   ],
   "source": [
    "n = int(input(\"enter the term of fibonacci suqeunce:\"))\n",
    "a, b = 0, 1\n",
    "count = 0\n",
    "while count < n:\n",
    "    print(a, end=' ')\n",
    "    a, b = b, a + b\n",
    "    count += 1\n",
    "\n",
    "print(count)\n"
   ]
  },
  {
   "cell_type": "markdown",
   "id": "d08ad1e2",
   "metadata": {},
   "source": [
    "8. WAP that reads a number and prints whether its a palindrome or not"
   ]
  },
  {
   "cell_type": "code",
   "execution_count": 64,
   "id": "d3b1209d",
   "metadata": {},
   "outputs": [
    {
     "name": "stdout",
     "output_type": "stream",
     "text": [
      "4 is a palindrome\n"
     ]
    }
   ],
   "source": [
    "num = int(input(\"Enter a number: \"))\n",
    "if str(num) == str(num)[::-1]:\n",
    "    print(num, \"is a palindrome\")\n",
    "else:\n",
    "    print(num, \"is not a palindrome\")"
   ]
  },
  {
   "cell_type": "markdown",
   "id": "ef8b9e08",
   "metadata": {},
   "source": [
    "9. WAP that prints the armstrong numbers between 100 and 999"
   ]
  },
  {
   "cell_type": "code",
   "execution_count": 65,
   "id": "da7c5f34",
   "metadata": {},
   "outputs": [
    {
     "name": "stdout",
     "output_type": "stream",
     "text": [
      "153 370 371 407 "
     ]
    }
   ],
   "source": [
    "for num in range(100, 1000):\n",
    "    digits = [int(d) for d in str(num)]\n",
    "    if sum(d ** 3 for d in digits) == num:\n",
    "        print(num, end=' ')"
   ]
  },
  {
   "cell_type": "markdown",
   "id": "4ad078b2",
   "metadata": {},
   "source": [
    "10. Write a menu-driven program to perform arithmetic operations based on use choice using conditional statement"
   ]
  },
  {
   "cell_type": "code",
   "execution_count": 66,
   "id": "381b9a7a",
   "metadata": {},
   "outputs": [
    {
     "name": "stdout",
     "output_type": "stream",
     "text": [
      "Menu:\n",
      "1. Addition\n",
      "2. Subtraction\n",
      "3. Multiplication\n",
      "4. Division\n",
      "Result: 12.0\n"
     ]
    }
   ],
   "source": [
    "print(\"Menu:\")\n",
    "print(\"1. Addition\")\n",
    "print(\"2. Subtraction\")\n",
    "print(\"3. Multiplication\")\n",
    "print(\"4. Division\")\n",
    "\n",
    "choice = int(input(\"Enter your choice (1-4): \"))\n",
    "\n",
    "num1 = float(input(\"Enter first number: \"))\n",
    "num2 = float(input(\"Enter second number: \"))\n",
    "\n",
    "if choice == 1:\n",
    "    print(\"Result:\", num1 + num2)\n",
    "elif choice == 2:\n",
    "    print(\"Result:\", num1 - num2)\n",
    "elif choice == 3:\n",
    "    print(\"Result:\", num1 * num2)\n",
    "elif choice == 4:\n",
    "    if num2 != 0:\n",
    "        print(\"Result:\", num1 / num2)\n",
    "    else:\n",
    "        print(\"Error: Division by zero is not allowed.\")\n",
    "else:\n",
    "    print(\"Invalid choice.\")"
   ]
  }
 ],
 "metadata": {
  "kernelspec": {
   "display_name": "Python 3",
   "language": "python",
   "name": "python3"
  },
  "language_info": {
   "codemirror_mode": {
    "name": "ipython",
    "version": 3
   },
   "file_extension": ".py",
   "mimetype": "text/x-python",
   "name": "python",
   "nbconvert_exporter": "python",
   "pygments_lexer": "ipython3",
   "version": "3.13.4"
  }
 },
 "nbformat": 4,
 "nbformat_minor": 5
}
