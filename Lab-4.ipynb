{
 "cells": [
  {
   "cell_type": "markdown",
   "id": "631904a8-9212-45fa-9abe-47615503fdf3",
   "metadata": {},
   "source": [
    "## PROJECT 1\n",
    "Create a CLI (Command Line Interface) contact book that allows users to:\n",
    "1. Add a new contact (append to file)\n",
    "2. View all contacts (read from file)\n",
    "3. Search for a contact (read and filter)\n",
    "4. Handle file-related exceptions (e.g., file not found)\n",
    "File Used:\n",
    "contacts.txt (stores contact info: Name, Phone)"
   ]
  },
  {
   "cell_type": "code",
   "execution_count": 1,
   "id": "1032e143-7c64-4cd7-945e-9520624ded98",
   "metadata": {},
   "outputs": [
    {
     "name": "stdout",
     "output_type": "stream",
     "text": [
      "\n",
      "Contact Book CLI\n",
      "1. Add Contact\n",
      "2. View All Contacts\n",
      "3. Search Contact\n",
      "4. Exit\n"
     ]
    },
    {
     "name": "stdin",
     "output_type": "stream",
     "text": [
      "Choose an option (1-4):  1\n",
      "Enter contact name:  Ishant Yadav\n",
      "Enter phone number:  9804700266\n"
     ]
    },
    {
     "name": "stdout",
     "output_type": "stream",
     "text": [
      "Contact 'Ishant Yadav' added successfully.\n",
      "\n",
      "Contact Book CLI\n",
      "1. Add Contact\n",
      "2. View All Contacts\n",
      "3. Search Contact\n",
      "4. Exit\n"
     ]
    },
    {
     "name": "stdin",
     "output_type": "stream",
     "text": [
      "Choose an option (1-4):  2\n"
     ]
    },
    {
     "name": "stdout",
     "output_type": "stream",
     "text": [
      "\n",
      "All contacts:\n",
      "Name                 | Phone          \n",
      "--------------------------------------\n",
      "Ishant Yadav         | 9804700266     \n",
      "\n",
      "Contact Book CLI\n",
      "1. Add Contact\n",
      "2. View All Contacts\n",
      "3. Search Contact\n",
      "4. Exit\n"
     ]
    },
    {
     "name": "stdin",
     "output_type": "stream",
     "text": [
      "Choose an option (1-4):  1\n",
      "Enter contact name:  Jitu Joshi\n",
      "Enter phone number:  9814449090\n"
     ]
    },
    {
     "name": "stdout",
     "output_type": "stream",
     "text": [
      "Contact 'Jitu Joshi' added successfully.\n",
      "\n",
      "Contact Book CLI\n",
      "1. Add Contact\n",
      "2. View All Contacts\n",
      "3. Search Contact\n",
      "4. Exit\n"
     ]
    },
    {
     "name": "stdin",
     "output_type": "stream",
     "text": [
      "Choose an option (1-4):  1\n",
      "Enter contact name:  Atharba pal\n",
      "Enter phone number:  9788899900\n"
     ]
    },
    {
     "name": "stdout",
     "output_type": "stream",
     "text": [
      "Contact 'Atharba pal' added successfully.\n",
      "\n",
      "Contact Book CLI\n",
      "1. Add Contact\n",
      "2. View All Contacts\n",
      "3. Search Contact\n",
      "4. Exit\n"
     ]
    },
    {
     "name": "stdin",
     "output_type": "stream",
     "text": [
      "Choose an option (1-4):  2\n"
     ]
    },
    {
     "name": "stdout",
     "output_type": "stream",
     "text": [
      "\n",
      "All contacts:\n",
      "Name                 | Phone          \n",
      "--------------------------------------\n",
      "Ishant Yadav         | 9804700266     \n",
      "Jitu Joshi           | 9814449090     \n",
      "Atharba pal          | 9788899900     \n",
      "\n",
      "Contact Book CLI\n",
      "1. Add Contact\n",
      "2. View All Contacts\n",
      "3. Search Contact\n",
      "4. Exit\n"
     ]
    },
    {
     "name": "stdin",
     "output_type": "stream",
     "text": [
      "Choose an option (1-4):  4\n"
     ]
    },
    {
     "name": "stdout",
     "output_type": "stream",
     "text": [
      "Exiting Contact Book. Goodbye!\n"
     ]
    }
   ],
   "source": [
    "import os\n",
    "\n",
    "FILE_NAME = \"contacts.txt\"\n",
    "\n",
    "def add_contact():\n",
    "    name = input(\"Enter contact name: \").strip()\n",
    "    phone = input(\"Enter phone number: \").strip()\n",
    "    if not name or not phone:\n",
    "        print(\"Name and Phone cannot be empty.\")\n",
    "        return\n",
    "    try:\n",
    "        with open(FILE_NAME, \"a\") as f:\n",
    "            f.write(f\"{name},{phone}\\n\")\n",
    "        print(f\"Contact '{name}' added successfully.\")\n",
    "    except Exception as e:\n",
    "        print(f\"Failed to add contact: {e}\")\n",
    "\n",
    "def view_contacts():\n",
    "    try:\n",
    "        with open(FILE_NAME, \"r\") as f:\n",
    "            contacts = f.readlines()\n",
    "        if not contacts:\n",
    "            print(\"No contacts found.\")\n",
    "            return\n",
    "        print(\"\\nAll contacts:\")\n",
    "        print(\"{:<20} | {:<15}\".format(\"Name\", \"Phone\"))\n",
    "        print(\"-\" * 38)\n",
    "        for c in contacts:\n",
    "            name, phone = c.strip().split(\",\", 1)\n",
    "            print(\"{:<20} | {:<15}\".format(name, phone))\n",
    "    except FileNotFoundError:\n",
    "        print(\"No contacts found. (contacts.txt does not exist)\")\n",
    "\n",
    "def search_contact():\n",
    "    query = input(\"Enter name to search: \").strip().lower()\n",
    "    if not query:\n",
    "        print(\"Search query cannot be empty.\")\n",
    "        return\n",
    "    try:\n",
    "        with open(FILE_NAME, \"r\") as f:\n",
    "            contacts = f.readlines()\n",
    "        matched = []\n",
    "        for c in contacts:\n",
    "            name, phone = c.strip().split(\",\", 1)\n",
    "            if query in name.lower():\n",
    "                matched.append((name, phone))\n",
    "        if not matched:\n",
    "            print(\"No matching contacts found.\")\n",
    "            return\n",
    "        print(f\"\\nContacts matching '{query}':\")\n",
    "        print(\"{:<20} | {:<15}\".format(\"Name\", \"Phone\"))\n",
    "        print(\"-\" * 38)\n",
    "        for name, phone in matched:\n",
    "            print(\"{:<20} | {:<15}\".format(name, phone))\n",
    "    except FileNotFoundError:\n",
    "        print(\"No contacts found. (contacts.txt does not exist)\")\n",
    "\n",
    "def main():\n",
    "    while True:\n",
    "        print(\"\\nContact Book CLI\")\n",
    "        print(\"1. Add Contact\")\n",
    "        print(\"2. View All Contacts\")\n",
    "        print(\"3. Search Contact\")\n",
    "        print(\"4. Exit\")\n",
    "        choice = input(\"Choose an option (1-4): \").strip()\n",
    "        if choice == \"1\":\n",
    "            add_contact()\n",
    "        elif choice == \"2\":\n",
    "            view_contacts()\n",
    "        elif choice == \"3\":\n",
    "            search_contact()\n",
    "        elif choice == \"4\":\n",
    "            print(\"Exiting Contact Book. Goodbye!\")\n",
    "            break\n",
    "        else:\n",
    "            print(\"Invalid option, please select between 1 and 4.\")\n",
    "\n",
    "if __name__ == \"__main__\":\n",
    "    main()\n"
   ]
  },
  {
   "cell_type": "code",
   "execution_count": 1,
   "id": "389bf69e-6d73-49e5-83d6-b932af9bea58",
   "metadata": {},
   "outputs": [
    {
     "name": "stdout",
     "output_type": "stream",
     "text": [
      "\n",
      "Contact Book CLI\n",
      "1. Add Contact\n",
      "2. View All Contacts\n",
      "3. Search Contact\n",
      "4. Exit\n"
     ]
    },
    {
     "name": "stdin",
     "output_type": "stream",
     "text": [
      "Choose an option (1-4):  1\n",
      "Enter contact name:  Ishant Yadav\n",
      "Enter phone number:  9804700266\n"
     ]
    },
    {
     "name": "stdout",
     "output_type": "stream",
     "text": [
      "Contact 'Ishant Yadav' added successfully.\n",
      "\n",
      "Contact Book CLI\n",
      "1. Add Contact\n",
      "2. View All Contacts\n",
      "3. Search Contact\n",
      "4. Exit\n"
     ]
    },
    {
     "name": "stdin",
     "output_type": "stream",
     "text": [
      "Choose an option (1-4):  2\n"
     ]
    },
    {
     "name": "stdout",
     "output_type": "stream",
     "text": [
      "\n",
      "All contacts:\n",
      "Name                 | Phone          \n",
      "--------------------------------------\n",
      "Ishant Yadav         | 9804700266     \n",
      "\n",
      "Contact Book CLI\n",
      "1. Add Contact\n",
      "2. View All Contacts\n",
      "3. Search Contact\n",
      "4. Exit\n"
     ]
    },
    {
     "name": "stdin",
     "output_type": "stream",
     "text": [
      "Choose an option (1-4):  1\n",
      "Enter contact name:  Jitu Joshi\n",
      "Enter phone number:  9814449090\n"
     ]
    },
    {
     "name": "stdout",
     "output_type": "stream",
     "text": [
      "Contact 'Jitu Joshi' added successfully.\n",
      "\n",
      "Contact Book CLI\n",
      "1. Add Contact\n",
      "2. View All Contacts\n",
      "3. Search Contact\n",
      "4. Exit\n"
     ]
    },
    {
     "name": "stdin",
     "output_type": "stream",
     "text": [
      "Choose an option (1-4):  1\n",
      "Enter contact name:  Atharba pal\n",
      "Enter phone number:  9788899900\n"
     ]
    },
    {
     "name": "stdout",
     "output_type": "stream",
     "text": [
      "Contact 'Atharba pal' added successfully.\n",
      "\n",
      "Contact Book CLI\n",
      "1. Add Contact\n",
      "2. View All Contacts\n",
      "3. Search Contact\n",
      "4. Exit\n"
     ]
    },
    {
     "name": "stdin",
     "output_type": "stream",
     "text": [
      "Choose an option (1-4):  2\n"
     ]
    },
    {
     "name": "stdout",
     "output_type": "stream",
     "text": [
      "\n",
      "All contacts:\n",
      "Name                 | Phone          \n",
      "--------------------------------------\n",
      "Ishant Yadav         | 9804700266     \n",
      "Jitu Joshi           | 9814449090     \n",
      "Atharba pal          | 9788899900     \n",
      "\n",
      "Contact Book CLI\n",
      "1. Add Contact\n",
      "2. View All Contacts\n",
      "3. Search Contact\n",
      "4. Exit\n"
     ]
    },
    {
     "name": "stdin",
     "output_type": "stream",
     "text": [
      "Choose an option (1-4):  4\n"
     ]
    },
    {
     "name": "stdout",
     "output_type": "stream",
     "text": [
      "Exiting Contact Book. Goodbye!\n"
     ]
    }
   ],
   "source": [
    "import os\n",
    "\n",
    "FILE_NAME = \"contacts.txt\"\n",
    "\n",
    "def add_contact():\n",
    "    name = input(\"Enter contact name: \").strip()\n",
    "    phone = input(\"Enter phone number: \").strip()\n",
    "    if not name or not phone:\n",
    "        print(\"Name and Phone cannot be empty.\")\n",
    "        return\n",
    "    try:\n",
    "        with open(FILE_NAME, \"a\") as f:\n",
    "            f.write(f\"{name},{phone}\\n\")\n",
    "        print(f\"Contact '{name}' added successfully.\")\n",
    "    except Exception as e:\n",
    "        print(f\"Failed to add contact: {e}\")\n",
    "\n",
    "def view_contacts():\n",
    "    try:\n",
    "        with open(FILE_NAME, \"r\") as f:\n",
    "            contacts = f.readlines()\n",
    "        if not contacts:\n",
    "            print(\"No contacts found.\")\n",
    "            return\n",
    "        print(\"\\nAll contacts:\")\n",
    "        print(\"{:<20} | {:<15}\".format(\"Name\", \"Phone\"))\n",
    "        print(\"-\" * 38)\n",
    "        for c in contacts:\n",
    "            name, phone = c.strip().split(\",\", 1)\n",
    "            print(\"{:<20} | {:<15}\".format(name, phone))\n",
    "    except FileNotFoundError:\n",
    "        print(\"No contacts found. (contacts.txt does not exist)\")\n",
    "\n",
    "def search_contact():\n",
    "    query = input(\"Enter name to search: \").strip().lower()\n",
    "    if not query:\n",
    "        print(\"Search query cannot be empty.\")\n",
    "        return\n",
    "    try:\n",
    "        with open(FILE_NAME, \"r\") as f:\n",
    "            contacts = f.readlines()\n",
    "        matched = []\n",
    "        for c in contacts:\n",
    "            name, phone = c.strip().split(\",\", 1)\n",
    "            if query in name.lower():\n",
    "                matched.append((name, phone))\n",
    "        if not matched:\n",
    "            print(\"No matching contacts found.\")\n",
    "            return\n",
    "        print(f\"\\nContacts matching '{query}':\")\n",
    "        print(\"{:<20} | {:<15}\".format(\"Name\", \"Phone\"))\n",
    "        print(\"-\" * 38)\n",
    "        for name, phone in matched:\n",
    "            print(\"{:<20} | {:<15}\".format(name, phone))\n",
    "    except FileNotFoundError:\n",
    "        print(\"No contacts found. (contacts.txt does not exist)\")\n",
    "\n",
    "def main():\n",
    "    while True:\n",
    "        print(\"\\nContact Book CLI\")\n",
    "        print(\"1. Add Contact\")\n",
    "        print(\"2. View All Contacts\")\n",
    "        print(\"3. Search Contact\")\n",
    "        print(\"4. Exit\")\n",
    "        choice = input(\"Choose an option (1-4): \").strip()\n",
    "        if choice == \"1\":\n",
    "            add_contact()\n",
    "        elif choice == \"2\":\n",
    "            view_contacts()\n",
    "        elif choice == \"3\":\n",
    "            search_contact()\n",
    "        elif choice == \"4\":\n",
    "            print(\"Exiting Contact Book. Goodbye!\")\n",
    "            break\n",
    "        else:\n",
    "            print(\"Invalid option, please select between 1 and 4.\")\n",
    "\n",
    "if __name__ == \"__main__\":\n",
    "    main()\n"
   ]
  },
  {
   "cell_type": "markdown",
   "id": "01fe414e-b9ba-4983-b9ef-6e815296362c",
   "metadata": {},
   "source": [
    "## PROJECT 2\n",
    "Create a simple banking system that:\n",
    "1. Stores customer info in a file\n",
    "2. Allows deposits and withdrawals using functions\n",
    "3. Updates customer balance\n",
    "4. Logs all transactions in a separate file\n",
    "5. Handles exceptions gracefully\n",
    "Files Used:\n",
    "customers.txt — stores customer records in the format:\n",
    "Name,AccountNumber,Balance\n",
    "transactions.txt — appends every deposit or withdrawal record with timestamp"
   ]
  },
  {
   "cell_type": "code",
   "execution_count": 4,
   "id": "457e174b-8ffb-42b6-ab73-c4bf875f7f44",
   "metadata": {},
   "outputs": [
    {
     "name": "stdout",
     "output_type": "stream",
     "text": [
      "\n",
      "Simple Banking System with Passcode Protection\n",
      "1. Add Customer\n",
      "2. Deposit\n",
      "3. Withdraw\n",
      "4. View Customers\n",
      "5. Exit\n"
     ]
    },
    {
     "name": "stdin",
     "output_type": "stream",
     "text": [
      "Choose an option (1-5):  1\n",
      "Enter customer name:  Ishant Yadav\n",
      "Enter unique account number:  6700010101\n",
      "Set a 4-digit numeric passcode for withdrawals:  2064\n"
     ]
    },
    {
     "name": "stdout",
     "output_type": "stream",
     "text": [
      "Customer 'Ishant Yadav' added with account number 6700010101.\n",
      "\n",
      "Simple Banking System with Passcode Protection\n",
      "1. Add Customer\n",
      "2. Deposit\n",
      "3. Withdraw\n",
      "4. View Customers\n",
      "5. Exit\n"
     ]
    },
    {
     "name": "stdin",
     "output_type": "stream",
     "text": [
      "Choose an option (1-5):  2\n",
      "Enter account number for deposit:  1000000\n"
     ]
    },
    {
     "name": "stdout",
     "output_type": "stream",
     "text": [
      "Account not found.\n",
      "\n",
      "Simple Banking System with Passcode Protection\n",
      "1. Add Customer\n",
      "2. Deposit\n",
      "3. Withdraw\n",
      "4. View Customers\n",
      "5. Exit\n"
     ]
    },
    {
     "name": "stdin",
     "output_type": "stream",
     "text": [
      "Choose an option (1-5):  2\n",
      "Enter account number for deposit:  6700010101\n",
      "Enter amount to deposit:  10000000\n"
     ]
    },
    {
     "name": "stdout",
     "output_type": "stream",
     "text": [
      "Deposited $10000000.00 to account 6700010101. New Balance: $10000000.00\n",
      "\n",
      "Simple Banking System with Passcode Protection\n",
      "1. Add Customer\n",
      "2. Deposit\n",
      "3. Withdraw\n",
      "4. View Customers\n",
      "5. Exit\n"
     ]
    },
    {
     "name": "stdin",
     "output_type": "stream",
     "text": [
      "Choose an option (1-5):  3\n",
      "Enter account number for withdrawal:  6700010101\n",
      "Enter your 4-digit passcode:  2064\n",
      "Enter amount to withdraw:  10000\n"
     ]
    },
    {
     "name": "stdout",
     "output_type": "stream",
     "text": [
      "Withdrew $10000.00 from account 6700010101. New Balance: $9990000.00\n",
      "\n",
      "Simple Banking System with Passcode Protection\n",
      "1. Add Customer\n",
      "2. Deposit\n",
      "3. Withdraw\n",
      "4. View Customers\n",
      "5. Exit\n"
     ]
    },
    {
     "name": "stdin",
     "output_type": "stream",
     "text": [
      "Choose an option (1-5):  5\n"
     ]
    },
    {
     "name": "stdout",
     "output_type": "stream",
     "text": [
      "Exiting system. Goodbye!\n"
     ]
    }
   ],
   "source": [
    "import os\n",
    "from datetime import datetime\n",
    "\n",
    "CUSTOMERS_FILE = \"customers.txt\"\n",
    "TRANSACTIONS_FILE = \"transactions.txt\"\n",
    "\n",
    "\n",
    "def load_customers():\n",
    "    customers = {}\n",
    "    try:\n",
    "        with open(CUSTOMERS_FILE, \"r\") as f:\n",
    "            for line in f:\n",
    "                name, acc_num, balance, passcode = line.strip().split(\",\", 3)\n",
    "                customers[acc_num] = {\n",
    "                    \"name\": name, \"balance\": float(balance), \"passcode\": passcode\n",
    "                }\n",
    "    except FileNotFoundError:\n",
    "        pass\n",
    "    except Exception as e:\n",
    "        print(f\"Error loading customers: {e}\")\n",
    "    return customers\n",
    "\n",
    "\n",
    "def save_customers(customers):\n",
    "    try:\n",
    "        with open(CUSTOMERS_FILE, \"w\") as f:\n",
    "            for acc_num, info in customers.items():\n",
    "                f.write(f\"{info['name']},{acc_num},{info['balance']:.2f},{info['passcode']}\\n\")\n",
    "    except Exception as e:\n",
    "        print(f\"Error saving customers: {e}\")\n",
    "\n",
    "\n",
    "def log_transaction(acc_num, trans_type, amount):\n",
    "    timestamp = datetime.now().strftime(\"%Y-%m-%d %H:%M:%S\")\n",
    "    try:\n",
    "        with open(TRANSACTIONS_FILE, \"a\") as f:\n",
    "            f.write(f\"{timestamp},{acc_num},{trans_type},{amount:.2f}\\n\")\n",
    "    except Exception as e:\n",
    "        print(f\"Failed to log transaction: {e}\")\n",
    "\n",
    "\n",
    "def add_customer(customers):\n",
    "    name = input(\"Enter customer name: \").strip()\n",
    "    acc_num = input(\"Enter unique account number: \").strip()\n",
    "    if not name or not acc_num:\n",
    "        print(\"Name and Account Number cannot be empty.\")\n",
    "        return\n",
    "    if acc_num in customers:\n",
    "        print(\"Account number already exists. Try another.\")\n",
    "        return\n",
    "\n",
    "    # Ask for 4-digit passcode and validate\n",
    "    while True:\n",
    "        passcode = input(\"Set a 4-digit numeric passcode for withdrawals: \").strip()\n",
    "        if passcode.isdigit() and len(passcode) == 4:\n",
    "            break\n",
    "        print(\"Passcode must be exactly 4 digits.\")\n",
    "\n",
    "    try:\n",
    "        customers[acc_num] = {\"name\": name, \"balance\": 0.0, \"passcode\": passcode}\n",
    "        save_customers(customers)\n",
    "        print(f\"Customer '{name}' added with account number {acc_num}.\")\n",
    "    except Exception as e:\n",
    "        print(f\"Failed to add customer: {e}\")\n",
    "\n",
    "\n",
    "def deposit(customers):\n",
    "    acc_num = input(\"Enter account number for deposit: \").strip()\n",
    "    if acc_num not in customers:\n",
    "        print(\"Account not found.\")\n",
    "        return\n",
    "    try:\n",
    "        amount = float(input(\"Enter amount to deposit: \"))\n",
    "        if amount <= 0:\n",
    "            print(\"Deposit amount must be positive.\")\n",
    "            return\n",
    "        customers[acc_num]['balance'] += amount\n",
    "        save_customers(customers)\n",
    "        log_transaction(acc_num, \"DEPOSIT\", amount)\n",
    "        print(f\"Deposited ${amount:.2f} to account {acc_num}. New Balance: ${customers[acc_num]['balance']:.2f}\")\n",
    "    except ValueError:\n",
    "        print(\"Invalid amount entered.\")\n",
    "    except Exception as e:\n",
    "        print(f\"Error during deposit: {e}\")\n",
    "\n",
    "\n",
    "def withdraw(customers):\n",
    "    acc_num = input(\"Enter account number for withdrawal: \").strip()\n",
    "    if acc_num not in customers:\n",
    "        print(\"Account not found.\")\n",
    "        return\n",
    "\n",
    "    # Verify passcode before withdrawal\n",
    "    attempts = 3\n",
    "    while attempts > 0:\n",
    "        entered_passcode = input(\"Enter your 4-digit passcode: \").strip()\n",
    "        if entered_passcode == customers[acc_num]['passcode']:\n",
    "            break\n",
    "        attempts -= 1\n",
    "        print(f\"Incorrect passcode. Attempts left: {attempts}\")\n",
    "    else:\n",
    "        print(\"Failed to authenticate. Withdrawal cancelled.\")\n",
    "        return\n",
    "\n",
    "    try:\n",
    "        amount = float(input(\"Enter amount to withdraw: \"))\n",
    "        if amount <= 0:\n",
    "            print(\"Withdrawal amount must be positive.\")\n",
    "            return\n",
    "        if amount > customers[acc_num]['balance']:\n",
    "            print(\"Insufficient balance.\")\n",
    "            return\n",
    "        customers[acc_num]['balance'] -= amount\n",
    "        save_customers(customers)\n",
    "        log_transaction(acc_num, \"WITHDRAWAL\", amount)\n",
    "        print(f\"Withdrew ${amount:.2f} from account {acc_num}. New Balance: ${customers[acc_num]['balance']:.2f}\")\n",
    "    except ValueError:\n",
    "        print(\"Invalid amount entered.\")\n",
    "    except Exception as e:\n",
    "        print(f\"Error during withdrawal: {e}\")\n",
    "\n",
    "\n",
    "def view_customers(customers):\n",
    "    if not customers:\n",
    "        print(\"No customers found.\")\n",
    "        return\n",
    "    print(\"\\nCustomers:\")\n",
    "    print(\"{:<20} | {:<15} | {:>10}\".format(\"Name\", \"Account Number\", \"Balance\"))\n",
    "    print(\"-\" * 50)\n",
    "    for acc_num, info in customers.items():\n",
    "        print(\"{:<20} | {:<15} | ${:>9.2f}\".format(info['name'], acc_num, info['balance']))\n",
    "\n",
    "\n",
    "def main():\n",
    "    customers = load_customers()\n",
    "    while True:\n",
    "        print(\"\\nSimple Banking System with Passcode Protection\")\n",
    "        print(\"1. Add Customer\")\n",
    "        print(\"2. Deposit\")\n",
    "        print(\"3. Withdraw\")\n",
    "        print(\"4. View Customers\")\n",
    "        print(\"5. Exit\")\n",
    "        choice = input(\"Choose an option (1-5): \").strip()\n",
    "        if choice == \"1\":\n",
    "            add_customer(customers)\n",
    "        elif choice == \"2\":\n",
    "            deposit(customers)\n",
    "        elif choice == \"3\":\n",
    "            withdraw(customers)\n",
    "        elif choice == \"4\":\n",
    "            view_customers(customers)\n",
    "        elif choice == \"5\":\n",
    "            print(\"Exiting system. Goodbye!\")\n",
    "            break\n",
    "        else:\n",
    "            print(\"Invalid option, please select between 1 and 5.\")\n",
    "\n",
    "\n",
    "if __name__ == \"__main__\":\n",
    "    main()\n"
   ]
  },
  {
   "cell_type": "code",
   "execution_count": null,
   "id": "e9c2e4f3-4df4-483d-9ccf-0450f7ff37e0",
   "metadata": {},
   "outputs": [],
   "source": []
  }
 ],
 "metadata": {
  "kernelspec": {
   "display_name": "Python 3 (ipykernel)",
   "language": "python",
   "name": "python3"
  },
  "language_info": {
   "codemirror_mode": {
    "name": "ipython",
    "version": 3
   },
   "file_extension": ".py",
   "mimetype": "text/x-python",
   "name": "python",
   "nbconvert_exporter": "python",
   "pygments_lexer": "ipython3",
   "version": "3.13.5"
  }
 },
 "nbformat": 4,
 "nbformat_minor": 5
}
