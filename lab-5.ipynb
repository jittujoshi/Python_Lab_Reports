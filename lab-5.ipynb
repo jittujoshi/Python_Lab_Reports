{
 "cells": [
  {
   "cell_type": "markdown",
   "id": "bd0de538-6db9-4889-a42c-322e607a6731",
   "metadata": {},
   "source": [
    "Question 1: Create a class Book with attributes title, author, and price. Write a\n",
    "constructor to initialize these values and create an object with sample data.\n",
    "1. Add a method display_info() to the Book class that prints the book's\n",
    "title, author, and price. Call this method using a Book object.\n",
    "2. Add a method update_price(new_price) to the Book class that updates\n",
    "the book's price. Demonstrate how to use it with an object."
   ]
  },
  {
   "cell_type": "code",
   "execution_count": 1,
   "id": "f0b8168c-36bd-46f7-a669-664daa0b9aaf",
   "metadata": {},
   "outputs": [
    {
     "name": "stdout",
     "output_type": "stream",
     "text": [
      "Title: Ikigai: The Japanese Secret to a Long and Happy Life\n",
      "Author: HECTOR GARCIA & FRANCESC MIRALLES\n",
      "Price: Rs850.00\n",
      "Price updated to Rs799.00\n",
      "Title: Ikigai: The Japanese Secret to a Long and Happy Life\n",
      "Author: HECTOR GARCIA & FRANCESC MIRALLES\n",
      "Price: Rs799.00\n"
     ]
    }
   ],
   "source": [
    "class Book:\n",
    "    def __init__(self, title, author, price):\n",
    "        self.title = title\n",
    "        self.author = author\n",
    "        self.price = price\n",
    "\n",
    "    def display_info(self):\n",
    "        print(f\"Title: {self.title}\")\n",
    "        print(f\"Author: {self.author}\")\n",
    "        print(f\"Price: Rs{self.price:.2f}\")\n",
    "\n",
    "    def update_price(self, new_price):\n",
    "        self.price = new_price\n",
    "        print(f\"Price updated to Rs{self.price:.2f}\")\n",
    "\n",
    "book1 = Book(\"Ikigai: The Japanese Secret to a Long and Happy Life\", \"HECTOR GARCIA & FRANCESC MIRALLES\", 850.00)\n",
    "book1.display_info()\n",
    "\n",
    "book1.update_price(799.00)\n",
    "\n",
    "book1.display_info()\n"
   ]
  },
  {
   "cell_type": "markdown",
   "id": "ca292834-36dd-45f5-8a2c-2335902b0585",
   "metadata": {},
   "source": [
    "Question 2:Create a class Student with attributes name and marks. Create three objects of the class and display their details using a method show_details()."
   ]
  },
  {
   "cell_type": "code",
   "execution_count": 3,
   "id": "f586edd4-d334-4d35-909d-51605620dc88",
   "metadata": {},
   "outputs": [
    {
     "name": "stdout",
     "output_type": "stream",
     "text": [
      "Name: Ishant\n",
      "Marks: 85\n",
      "   \n",
      "Name: Sudin\n",
      "Marks: 92\n",
      "   \n",
      "Name: Kavya\n",
      "Marks: 78\n"
     ]
    }
   ],
   "source": [
    "class Student:\n",
    "    def __init__(self, name, marks):\n",
    "        self.name = name\n",
    "        self.marks = marks\n",
    "\n",
    "    def show_details(self):\n",
    "        print(f\"Name: {self.name}\")\n",
    "        print(f\"Marks: {self.marks}\")\n",
    "\n",
    "\n",
    "student1 = Student(\"Ishant\", 85)\n",
    "student2 = Student(\"Sudin\", 92)\n",
    "student3 = Student(\"Kavya\", 78)\n",
    "\n",
    "student1.show_details()\n",
    "print(\"   \")\n",
    "student2.show_details()\n",
    "print(\"   \")\n",
    "student3.show_details()\n"
   ]
  },
  {
   "cell_type": "markdown",
   "id": "3cb944ad-aa8c-48d1-9d7c-e5fcbf55c409",
   "metadata": {},
   "source": [
    "Question 3: Create a class BankAccount with attributes account_holder,\n",
    "account_number, and balance.\n",
    "1. Add methods deposit(amount) and withdraw(amount) that update the\n",
    "balance.\n",
    "2. Add a method show_balance() that prints the current balance.\n",
    "3. Create an object and perform a deposit, a withdrawal, and show the\n",
    "balance."
   ]
  },
  {
   "cell_type": "code",
   "execution_count": null,
   "id": "40589727-b671-4850-a434-29ec6a129e17",
   "metadata": {},
   "outputs": [],
   "source": [
    "class BankAccount:\n",
    "    def __init__(self, account_holder, account_number, balance=0.0):\n",
    "        self.account_holder = account_holder\n",
    "        self.account_number = account_number\n",
    "        self.balance = balance\n",
    "\n",
    "    def deposit(self, amount):\n",
    "        if amount > 0:\n",
    "            self.balance += amount\n",
    "            print(f\"Deposited ${amount:.2f}\")\n",
    "        else:\n",
    "            print(\"Deposit amount must be positive.\")\n",
    "\n",
    "    def withdraw(self, amount):\n",
    "        if amount <= 0:\n",
    "            print(\"Withdrawal amount must be positive.\")\n",
    "        elif amount > self.balance:\n",
    "            print(\"Insufficient balance.\")\n",
    "        else:\n",
    "            self.balance -= amount\n",
    "            print(f\"Withdrew ${amount:.2f}\")\n",
    "\n",
    "    def show_balance(self):\n",
    "        print(f\"Current balance: ${self.balance:.2f}\")\n",
    "\n",
    "\n",
    "\n",
    "account = BankAccount(\"John Doe\", \"123456789\", 100.0)\n",
    "account.deposit(50)        \n",
    "account.withdraw(30)      \n",
    "account.show_balance()     \n"
   ]
  }
 ],
 "metadata": {
  "kernelspec": {
   "display_name": "Python 3 (ipykernel)",
   "language": "python",
   "name": "python3"
  },
  "language_info": {
   "codemirror_mode": {
    "name": "ipython",
    "version": 3
   },
   "file_extension": ".py",
   "mimetype": "text/x-python",
   "name": "python",
   "nbconvert_exporter": "python",
   "pygments_lexer": "ipython3",
   "version": "3.13.5"
  }
 },
 "nbformat": 4,
 "nbformat_minor": 5
}
